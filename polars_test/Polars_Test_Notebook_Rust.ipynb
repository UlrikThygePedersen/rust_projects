{
 "cells": [
  {
   "cell_type": "code",
   "execution_count": null,
   "id": "c1986c06",
   "metadata": {},
   "outputs": [],
   "source": [
    ":dep polars = { version = \"0.23.2\", features = [\"lazy\", \"csv-file\", \"strings\", \"temporal\", \"dtype-duration\", \"dtype-categorical\", \"concat_str\", \"list\", \"list_eval\", \"rank\", \"lazy_regex\"]}\n",
    ":dep color-eyre = {version = \"0.6.2\"}\n",
    ":dep rand = {version = \"0.8.5\"}\n",
    ":dep reqwest = { version = \"0.11.11\", features = [\"blocking\"]}\n",
    "\n",
    "use color_eyre::{Result};\n",
    "use polars::prelude::*;"
   ]
  },
  {
   "cell_type": "code",
   "execution_count": 2,
   "id": "465d0633",
   "metadata": {},
   "outputs": [
    {
     "ename": "Error",
     "evalue": "Couldn't automatically determine type of variable `df`.\nPlease give it an explicit type.",
     "output_type": "error",
     "traceback": [
      "Couldn't automatically determine type of variable `df`.\nPlease give it an explicit type."
     ]
    }
   ],
   "source": [
    "let df = df! [\n",
    "    \"A\"        => [1, 2, 3, 4, 5],\n",
    "    \"fruits\"   => [\"banana\", \"banana\", \"apple\", \"apple\", \"banana\"],\n",
    "    \"B\"        => [5, 4, 3, 2, 1],\n",
    "    \"cars\"     => [\"beetle\", \"audi\", \"beetle\", \"beetle\", \"beetle\"],\n",
    "    \"optional\" => [Some(28), Some(300), None, Some(2), Some(-30)],\n",
    "]?;\n",
    "df"
   ]
  },
  {
   "cell_type": "code",
   "execution_count": null,
   "id": "18040d88",
   "metadata": {},
   "outputs": [],
   "source": []
  },
  {
   "cell_type": "code",
   "execution_count": null,
   "id": "663849ae",
   "metadata": {},
   "outputs": [],
   "source": []
  },
  {
   "cell_type": "code",
   "execution_count": null,
   "id": "d41b30fe",
   "metadata": {},
   "outputs": [],
   "source": []
  }
 ],
 "metadata": {
  "kernelspec": {
   "display_name": "Rust",
   "language": "rust",
   "name": "rust"
  },
  "language_info": {
   "codemirror_mode": "rust",
   "file_extension": ".rs",
   "mimetype": "text/rust",
   "name": "Rust",
   "pygment_lexer": "rust",
   "version": ""
  }
 },
 "nbformat": 4,
 "nbformat_minor": 5
}
